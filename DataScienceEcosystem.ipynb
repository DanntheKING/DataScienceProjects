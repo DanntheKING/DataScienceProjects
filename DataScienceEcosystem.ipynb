{
 "cells": [
  {
   "cell_type": "markdown",
   "id": "565924cf-1918-4836-8713-4f2dca819b1b",
   "metadata": {},
   "source": [
    "# Data Science Tools and Ecosystem"
   ]
  },
  {
   "cell_type": "markdown",
   "id": "ad298122-aaff-43a5-a5da-02833f48f566",
   "metadata": {},
   "source": [
    "#### In this notebook, Data Science Tools and Ecosystem are summarized."
   ]
  },
  {
   "cell_type": "markdown",
   "id": "c105d60a-2217-47ec-a056-6a6e8aea680b",
   "metadata": {},
   "source": [
    "## Some of the popular languages that Data Scientists use are:\n",
    "1. Python\n",
    "2. R\n",
    "3. SQL"
   ]
  },
  {
   "cell_type": "markdown",
   "id": "48f3308b-7e56-467e-9c11-ed09475a4aa6",
   "metadata": {},
   "source": [
    "## Some of the commonly used libraries used by Data Scientists include:\n",
    "1. Numpy\n",
    "2. GGPlot\n",
    "3. Pytorch"
   ]
  },
  {
   "cell_type": "markdown",
   "id": "b78c41f5-043b-4e63-9ad9-c4a58eba1a95",
   "metadata": {
    "tags": []
   },
   "source": [
    "|   Data Science Tools  |            \n",
    "|:---------------------:|\n",
    "|  RStudio              |\n",
    "|  Visual Studio Code   |\n",
    "|  Achape               |"
   ]
  },
  {
   "cell_type": "markdown",
   "id": "1158bc62-abb5-484f-b7ee-cee356f60fb1",
   "metadata": {
    "tags": []
   },
   "source": [
    "### Below are a few examples of evaluating arithmetic expressions in Python"
   ]
  },
  {
   "cell_type": "code",
   "execution_count": null,
   "id": "97a3c9d2-22b7-4239-a918-ede3cfd7d2ec",
   "metadata": {},
   "outputs": [],
   "source": [
    "(3*4)+5"
   ]
  },
  {
   "cell_type": "code",
   "execution_count": 11,
   "id": "572d5bfe-2fbb-40d6-8999-36083a67552c",
   "metadata": {
    "tags": []
   },
   "outputs": [
    {
     "data": {
      "text/plain": [
       "3"
      ]
     },
     "execution_count": 11,
     "metadata": {},
     "output_type": "execute_result"
    }
   ],
   "source": [
    "# This will convert 200 minutes to hours by diving by 60\n",
    "200//60"
   ]
  },
  {
   "cell_type": "markdown",
   "id": "5933181d-2ec7-4e0b-8072-4dee1b565791",
   "metadata": {
    "jp-MarkdownHeadingCollapsed": true,
    "tags": []
   },
   "source": [
    "## **Objectives:**\n",
    "\n",
    "- Create a Jupyter Notebook with markdown and code cells\n",
    "- Demonstrate proficiency in Data Science toolkit knowledge\n",
    "- Share your Jupyter Notebook publicly on GitHub\n",
    "- List popular languages for Data Science\n"
   ]
  },
  {
   "cell_type": "markdown",
   "id": "d9d6f519-c9d2-4720-b67c-75817f5b83a6",
   "metadata": {},
   "source": [
    "## Author\n",
    "Daniel Davis"
   ]
  },
  {
   "cell_type": "code",
   "execution_count": null,
   "id": "4f4df282-8859-4990-9580-0e237ba00246",
   "metadata": {},
   "outputs": [],
   "source": []
  }
 ],
 "metadata": {
  "kernelspec": {
   "display_name": "Python",
   "language": "python",
   "name": "conda-env-python-py"
  },
  "language_info": {
   "codemirror_mode": {
    "name": "ipython",
    "version": 3
   },
   "file_extension": ".py",
   "mimetype": "text/x-python",
   "name": "python",
   "nbconvert_exporter": "python",
   "pygments_lexer": "ipython3",
   "version": "3.7.12"
  }
 },
 "nbformat": 4,
 "nbformat_minor": 5
}
